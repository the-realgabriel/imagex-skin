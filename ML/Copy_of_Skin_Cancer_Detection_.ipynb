{
  "cells": [
    {
      "cell_type": "markdown",
      "metadata": {
        "id": "smDPKRW8nNui"
      },
      "source": [
        "# Importing libs"
      ]
    },
    {
      "cell_type": "code",
      "execution_count": null,
      "metadata": {
        "execution": {
          "iopub.execute_input": "2023-01-14T18:49:53.746594Z",
          "iopub.status.busy": "2023-01-14T18:49:53.745866Z",
          "iopub.status.idle": "2023-01-14T18:49:53.755233Z",
          "shell.execute_reply": "2023-01-14T18:49:53.754236Z",
          "shell.execute_reply.started": "2023-01-14T18:49:53.746556Z"
        },
        "id": "BiZwjNojnNuj",
        "trusted": true
      },
      "outputs": [],
      "source": [
        "import pathlib\n",
        "import tensorflow as tf\n",
        "import matplotlib.pyplot as plt\n",
        "import numpy as np\n",
        "import pandas as pd\n",
        "import os\n",
        "import PIL\n",
        "from tensorflow import keras\n",
        "from tensorflow.keras import layers\n",
        "from tensorflow.keras.models import Sequential\n",
        "from keras.layers import Dense, Dropout, Flatten, Conv2D, MaxPool2D\n",
        "from tensorflow.keras.optimizers import Adam\n",
        "import random\n",
        "from glob import glob\n",
        "import seaborn as sns\n",
        "from tensorflow.keras.losses import SparseCategoricalCrossentropy\n",
        "import matplotlib.pyplot as plt\n",
        "import matplotlib.image as img\n",
        "import warnings\n",
        "warnings.filterwarnings('ignore')\n",
        "os.environ['TF_CPP_MIN_LOG_LEVEL'] = '3'\n",
        "tf.compat.v1.logging.set_verbosity(tf.compat.v1.logging.ERROR)"
      ]
    },
    {
      "cell_type": "code",
      "execution_count": null,
      "metadata": {
        "execution": {
          "iopub.execute_input": "2023-01-14T20:05:28.340204Z",
          "iopub.status.busy": "2023-01-14T20:05:28.339792Z",
          "iopub.status.idle": "2023-01-14T20:05:28.346212Z",
          "shell.execute_reply": "2023-01-14T20:05:28.345222Z",
          "shell.execute_reply.started": "2023-01-14T20:05:28.340154Z"
        },
        "id": "_39cQK27nNuk",
        "trusted": true
      },
      "outputs": [],
      "source": [
        "gpus = tf.config.experimental.list_physical_devices('GPU')\n",
        "print(gpus)\n",
        "try:\n",
        "    tf.config.experimental.set_memory_growth = True\n",
        "except Exception as ex:\n",
        "    print(e)"
      ]
    },
    {
      "cell_type": "code",
      "execution_count": null,
      "metadata": {
        "id": "X7dYR0aQnNul"
      },
      "outputs": [],
      "source": [
        "! rm -rf /kaggle/working/data/"
      ]
    },
    {
      "cell_type": "markdown",
      "metadata": {
        "id": "AeFWAvVEnNul"
      },
      "source": [
        "# Reading input data"
      ]
    },
    {
      "cell_type": "code",
      "execution_count": null,
      "metadata": {
        "execution": {
          "iopub.execute_input": "2023-01-14T18:49:53.773822Z",
          "iopub.status.busy": "2023-01-14T18:49:53.773156Z",
          "iopub.status.idle": "2023-01-14T18:49:53.780627Z",
          "shell.execute_reply": "2023-01-14T18:49:53.779694Z",
          "shell.execute_reply.started": "2023-01-14T18:49:53.773788Z"
        },
        "id": "ETMqihgLnNum",
        "trusted": true
      },
      "outputs": [],
      "source": [
        "data_dir_train = pathlib.Path(\"../input/skin-cancer9-classesisic/Skin cancer ISIC The International Skin Imaging Collaboration/Train/\")\n",
        "data_dir_test = pathlib.Path(\"../input/skin-cancer9-classesisic/Skin cancer ISIC The International Skin Imaging Collaboration/Test/\")"
      ]
    },
    {
      "cell_type": "code",
      "execution_count": null,
      "metadata": {
        "execution": {
          "iopub.execute_input": "2023-01-14T18:49:53.783538Z",
          "iopub.status.busy": "2023-01-14T18:49:53.782406Z",
          "iopub.status.idle": "2023-01-14T18:49:53.810753Z",
          "shell.execute_reply": "2023-01-14T18:49:53.809831Z",
          "shell.execute_reply.started": "2023-01-14T18:49:53.7835Z"
        },
        "id": "OkNY3PIlnNun",
        "trusted": true
      },
      "outputs": [],
      "source": [
        "image_count_train = len(list(data_dir_train.glob('*/*.jpg')))\n",
        "print(image_count_train)\n",
        "image_count_test = len(list(data_dir_test.glob('*/*.jpg')))\n",
        "print(image_count_test)"
      ]
    },
    {
      "cell_type": "markdown",
      "metadata": {
        "id": "43KsSzB_nNuo"
      },
      "source": [
        "# Load the DataSet\n"
      ]
    },
    {
      "cell_type": "code",
      "execution_count": null,
      "metadata": {
        "execution": {
          "iopub.execute_input": "2023-01-14T18:49:53.812384Z",
          "iopub.status.busy": "2023-01-14T18:49:53.812053Z",
          "iopub.status.idle": "2023-01-14T18:49:53.817217Z",
          "shell.execute_reply": "2023-01-14T18:49:53.816234Z",
          "shell.execute_reply.started": "2023-01-14T18:49:53.812353Z"
        },
        "id": "0NWMTGtsnNup",
        "trusted": true
      },
      "outputs": [],
      "source": [
        "batch_size = 32\n",
        "img_height = 180\n",
        "img_width = 180\n",
        "rnd_seed = 123\n",
        "random.seed(rnd_seed)"
      ]
    },
    {
      "cell_type": "code",
      "execution_count": null,
      "metadata": {
        "execution": {
          "iopub.execute_input": "2023-01-14T18:49:53.819329Z",
          "iopub.status.busy": "2023-01-14T18:49:53.818657Z",
          "iopub.status.idle": "2023-01-14T18:49:54.051904Z",
          "shell.execute_reply": "2023-01-14T18:49:54.050771Z",
          "shell.execute_reply.started": "2023-01-14T18:49:53.819293Z"
        },
        "id": "tVDhOhJknNup",
        "trusted": true
      },
      "outputs": [],
      "source": [
        "train_ds = tf.keras.preprocessing.image_dataset_from_directory(\n",
        "  data_dir_train,\n",
        "  validation_split=0.2,\n",
        "  subset=\"training\",\n",
        "  seed=123,\n",
        "  image_size=(img_height, img_width),\n",
        "  batch_size=batch_size)"
      ]
    },
    {
      "cell_type": "code",
      "execution_count": null,
      "metadata": {
        "execution": {
          "iopub.execute_input": "2023-01-14T18:49:54.053849Z",
          "iopub.status.busy": "2023-01-14T18:49:54.053525Z",
          "iopub.status.idle": "2023-01-14T18:49:54.281336Z",
          "shell.execute_reply": "2023-01-14T18:49:54.280246Z",
          "shell.execute_reply.started": "2023-01-14T18:49:54.053816Z"
        },
        "id": "T18zezsHnNup",
        "trusted": true
      },
      "outputs": [],
      "source": [
        "val_ds = tf.keras.preprocessing.image_dataset_from_directory(\n",
        "  data_dir_train,\n",
        "  validation_split=0.2,\n",
        "  subset=\"validation\",\n",
        "  seed=123,\n",
        "  image_size=(img_height, img_width),\n",
        "  batch_size=batch_size)\n"
      ]
    },
    {
      "cell_type": "code",
      "execution_count": null,
      "metadata": {
        "execution": {
          "iopub.execute_input": "2023-01-14T18:49:54.285098Z",
          "iopub.status.busy": "2023-01-14T18:49:54.284745Z",
          "iopub.status.idle": "2023-01-14T18:49:54.412735Z",
          "shell.execute_reply": "2023-01-14T18:49:54.411764Z",
          "shell.execute_reply.started": "2023-01-14T18:49:54.285061Z"
        },
        "id": "-xaE4LRunNuq",
        "trusted": true
      },
      "outputs": [],
      "source": [
        "test_ds = tf.keras.preprocessing.image_dataset_from_directory(\n",
        "  data_dir_test,\n",
        "  validation_split=0.9,\n",
        "  subset=\"validation\",\n",
        "  seed=123,\n",
        "  image_size=(img_height, img_width),\n",
        "  batch_size=batch_size)"
      ]
    },
    {
      "cell_type": "code",
      "execution_count": null,
      "metadata": {
        "execution": {
          "iopub.execute_input": "2023-01-14T18:49:54.419088Z",
          "iopub.status.busy": "2023-01-14T18:49:54.416844Z",
          "iopub.status.idle": "2023-01-14T18:49:54.426997Z",
          "shell.execute_reply": "2023-01-14T18:49:54.425926Z",
          "shell.execute_reply.started": "2023-01-14T18:49:54.41905Z"
        },
        "id": "gOs1TRm8nNuq",
        "trusted": true
      },
      "outputs": [],
      "source": [
        "class_names = train_ds.class_names\n",
        "print(class_names)"
      ]
    },
    {
      "cell_type": "code",
      "execution_count": null,
      "metadata": {
        "execution": {
          "iopub.execute_input": "2023-01-14T18:49:54.432299Z",
          "iopub.status.busy": "2023-01-14T18:49:54.431671Z",
          "iopub.status.idle": "2023-01-14T18:49:56.952616Z",
          "shell.execute_reply": "2023-01-14T18:49:56.951581Z",
          "shell.execute_reply.started": "2023-01-14T18:49:54.43226Z"
        },
        "id": "e0IRaqmSnNuq",
        "trusted": true
      },
      "outputs": [],
      "source": [
        "num_classes = len(class_names)\n",
        "plt.figure(figsize=(10,10))\n",
        "for i in range(num_classes):\n",
        "  plt.subplot(3,3,i+1)\n",
        "  image = img.imread(str(list(data_dir_train.glob(class_names[i]+'/*.jpg'))[1]))\n",
        "  plt.title(class_names[i])\n",
        "  plt.imshow(image)\n"
      ]
    },
    {
      "cell_type": "code",
      "execution_count": null,
      "metadata": {
        "execution": {
          "iopub.execute_input": "2023-01-14T18:49:56.954722Z",
          "iopub.status.busy": "2023-01-14T18:49:56.954034Z",
          "iopub.status.idle": "2023-01-14T18:49:58.59638Z",
          "shell.execute_reply": "2023-01-14T18:49:58.595273Z",
          "shell.execute_reply.started": "2023-01-14T18:49:56.95468Z"
        },
        "id": "IfX3_zaknNuy",
        "trusted": true
      },
      "outputs": [],
      "source": [
        "for image_batch, labels_batch in train_ds.take(1):\n",
        "    print(image_batch.shape)\n",
        "    print(labels_batch.shape)"
      ]
    },
    {
      "cell_type": "code",
      "execution_count": null,
      "metadata": {
        "execution": {
          "iopub.execute_input": "2023-01-14T18:49:58.59831Z",
          "iopub.status.busy": "2023-01-14T18:49:58.597946Z",
          "iopub.status.idle": "2023-01-14T18:49:58.607107Z",
          "shell.execute_reply": "2023-01-14T18:49:58.605874Z",
          "shell.execute_reply.started": "2023-01-14T18:49:58.598274Z"
        },
        "id": "8VqYUu06nNuy",
        "trusted": true
      },
      "outputs": [],
      "source": [
        "AUTOTUNE = tf.data.experimental.AUTOTUNE\n",
        "train_ds = train_ds.cache().shuffle(1000).prefetch(buffer_size=AUTOTUNE)\n",
        "val_ds = val_ds.cache().prefetch(buffer_size=AUTOTUNE)"
      ]
    },
    {
      "cell_type": "markdown",
      "metadata": {
        "id": "0rFyyWSunNuz"
      },
      "source": [
        "# Model 1 : standard Model\n"
      ]
    },
    {
      "cell_type": "code",
      "execution_count": null,
      "metadata": {
        "execution": {
          "iopub.execute_input": "2023-01-14T18:49:58.609602Z",
          "iopub.status.busy": "2023-01-14T18:49:58.608817Z",
          "iopub.status.idle": "2023-01-14T18:49:58.688233Z",
          "shell.execute_reply": "2023-01-14T18:49:58.687366Z",
          "shell.execute_reply.started": "2023-01-14T18:49:58.609518Z"
        },
        "id": "dKTxTJ0OnNuz",
        "trusted": true
      },
      "outputs": [],
      "source": [
        "num_classes = 9\n",
        "model = Sequential([layers.experimental.preprocessing.Rescaling \\\n",
        "                    (1.0/255,input_shape=(img_height,img_width,3))])\n",
        "\n",
        "model.add(Conv2D(32, 3,padding=\"same\",activation='relu'))\n",
        "model.add(MaxPool2D())\n",
        "\n",
        "model.add(Conv2D(64, 3,padding=\"same\",activation='relu'))\n",
        "model.add(MaxPool2D())\n",
        "\n",
        "model.add(Conv2D(128, 3,padding=\"same\",activation='relu'))\n",
        "model.add(MaxPool2D())\n",
        "\n",
        "model.add(Conv2D(256, 3,padding=\"same\",activation='relu'))\n",
        "model.add(MaxPool2D())\n",
        "\n",
        "model.add(Conv2D(512, 3,padding=\"same\",activation='relu'))\n",
        "model.add(MaxPool2D())\n",
        "\n",
        "model.add(Flatten())\n",
        "model.add(Dense(1024,activation=\"relu\"))\n",
        "model.add(Dense(units=num_classes, activation= 'softmax'))\n"
      ]
    },
    {
      "cell_type": "code",
      "execution_count": null,
      "metadata": {
        "execution": {
          "iopub.execute_input": "2023-01-14T18:49:58.690763Z",
          "iopub.status.busy": "2023-01-14T18:49:58.690247Z",
          "iopub.status.idle": "2023-01-14T18:49:58.699562Z",
          "shell.execute_reply": "2023-01-14T18:49:58.698637Z",
          "shell.execute_reply.started": "2023-01-14T18:49:58.690729Z"
        },
        "id": "vvj9mTA_nNu0",
        "trusted": true
      },
      "outputs": [],
      "source": [
        "opt = Adam(lr=0.001)\n",
        "model.compile(optimizer= opt,\n",
        "              loss= SparseCategoricalCrossentropy(from_logits=True),\n",
        "              metrics=['accuracy'])"
      ]
    },
    {
      "cell_type": "code",
      "execution_count": null,
      "metadata": {
        "execution": {
          "iopub.execute_input": "2023-01-14T18:49:58.70157Z",
          "iopub.status.busy": "2023-01-14T18:49:58.700973Z",
          "iopub.status.idle": "2023-01-14T18:49:58.710032Z",
          "shell.execute_reply": "2023-01-14T18:49:58.709095Z",
          "shell.execute_reply.started": "2023-01-14T18:49:58.701536Z"
        },
        "id": "bYlMXcyGnNu0",
        "trusted": true
      },
      "outputs": [],
      "source": [
        "model.summary()"
      ]
    },
    {
      "cell_type": "code",
      "execution_count": null,
      "metadata": {
        "execution": {
          "iopub.execute_input": "2023-01-14T18:49:58.712263Z",
          "iopub.status.busy": "2023-01-14T18:49:58.711561Z",
          "iopub.status.idle": "2023-01-14T18:51:19.19793Z",
          "shell.execute_reply": "2023-01-14T18:51:19.19701Z",
          "shell.execute_reply.started": "2023-01-14T18:49:58.712216Z"
        },
        "id": "hWV9R4l9nNu1",
        "trusted": true
      },
      "outputs": [],
      "source": [
        "epochs = 25\n",
        "history = model.fit(\n",
        "  train_ds,\n",
        "  validation_data=val_ds,\n",
        "  epochs=epochs\n",
        ")"
      ]
    },
    {
      "cell_type": "code",
      "execution_count": null,
      "metadata": {
        "execution": {
          "iopub.execute_input": "2023-01-14T18:51:19.199705Z",
          "iopub.status.busy": "2023-01-14T18:51:19.199315Z",
          "iopub.status.idle": "2023-01-14T18:51:19.525005Z",
          "shell.execute_reply": "2023-01-14T18:51:19.52407Z",
          "shell.execute_reply.started": "2023-01-14T18:51:19.199667Z"
        },
        "id": "oj89R_QvnNu1",
        "trusted": true
      },
      "outputs": [],
      "source": [
        "acc = history.history['accuracy']\n",
        "val_acc = history.history['val_accuracy']\n",
        "\n",
        "loss = history.history['loss']\n",
        "val_loss = history.history['val_loss']\n",
        "\n",
        "epochs_range = range(epochs)\n",
        "\n",
        "plt.figure(figsize=(8, 8))\n",
        "plt.subplot(1, 2, 1)\n",
        "plt.plot(epochs_range, acc, label='Training Accuracy')\n",
        "plt.plot(epochs_range, val_acc, label='Validation Accuracy')\n",
        "plt.legend(loc='lower right')\n",
        "plt.title('Training and Validation Accuracy')\n",
        "\n",
        "plt.subplot(1, 2, 2)\n",
        "plt.plot(epochs_range, loss, label='Training Loss')\n",
        "plt.plot(epochs_range, val_loss, label='Validation Loss')\n",
        "plt.legend(loc='upper right')\n",
        "plt.title('Training and Validation Loss')\n",
        "plt.show()"
      ]
    },
    {
      "cell_type": "markdown",
      "metadata": {
        "id": "WhOQXjk9nNu1"
      },
      "source": [
        "## Findings :\n",
        "*   The model is overfitting because we can see the difference in accuracy in training data & accuracy in the validation data that is almost 20%.\n",
        "\n",
        "*   The training accuracy is just around 70-75% with 25 epochos and the model is yet to learn the many features.\n",
        "\n",
        "*  data imbalance might be causing the bais to the model."
      ]
    },
    {
      "cell_type": "markdown",
      "metadata": {
        "id": "bECsywdnnNu1"
      },
      "source": [
        "# Model 2 : Data Augumentation with drop out layer."
      ]
    },
    {
      "cell_type": "code",
      "execution_count": null,
      "metadata": {
        "execution": {
          "iopub.execute_input": "2023-01-14T18:51:19.527406Z",
          "iopub.status.busy": "2023-01-14T18:51:19.526435Z",
          "iopub.status.idle": "2023-01-14T18:51:19.669603Z",
          "shell.execute_reply": "2023-01-14T18:51:19.668671Z",
          "shell.execute_reply.started": "2023-01-14T18:51:19.527368Z"
        },
        "id": "Mb5TbG53nNu5",
        "trusted": true
      },
      "outputs": [],
      "source": [
        "data_augmentation = keras.Sequential(\n",
        "  [\n",
        "    layers.experimental.preprocessing.RandomFlip(\"horizontal_and_vertical\",\n",
        "                                                 input_shape=(img_height,\n",
        "                                                              img_width,\n",
        "                                                              3)),\n",
        "    layers.experimental.preprocessing.RandomRotation(0.2),\n",
        "    layers.experimental.preprocessing.RandomZoom(0.2),\n",
        "  ]\n",
        ")\n"
      ]
    },
    {
      "cell_type": "code",
      "execution_count": null,
      "metadata": {
        "execution": {
          "iopub.execute_input": "2023-01-14T18:51:19.676934Z",
          "iopub.status.busy": "2023-01-14T18:51:19.676602Z",
          "iopub.status.idle": "2023-01-14T18:51:20.458251Z",
          "shell.execute_reply": "2023-01-14T18:51:20.457403Z",
          "shell.execute_reply.started": "2023-01-14T18:51:19.676898Z"
        },
        "id": "AgkL3Uk9nNu6",
        "trusted": true
      },
      "outputs": [],
      "source": [
        "plt.figure(figsize=(10, 10))\n",
        "for images, _ in train_ds.take(1):\n",
        "  for i in range(9):\n",
        "    augmented_images = data_augmentation(images)\n",
        "    ax = plt.subplot(3, 3, i + 1)\n",
        "    plt.imshow(augmented_images[0].numpy().astype(\"uint8\"))\n",
        "    plt.axis(\"off\")\n"
      ]
    },
    {
      "cell_type": "code",
      "execution_count": null,
      "metadata": {
        "execution": {
          "iopub.execute_input": "2023-01-14T18:51:20.460269Z",
          "iopub.status.busy": "2023-01-14T18:51:20.459717Z",
          "iopub.status.idle": "2023-01-14T18:51:20.675158Z",
          "shell.execute_reply": "2023-01-14T18:51:20.674232Z",
          "shell.execute_reply.started": "2023-01-14T18:51:20.460233Z"
        },
        "id": "GbjQe2cKnNu6",
        "trusted": true
      },
      "outputs": [],
      "source": [
        "num_classes = 9\n",
        "model = Sequential(data_augmentation)\n",
        "model.add(layers.experimental.preprocessing.Rescaling(1.0/255,input_shape=(img_height,img_width,3)))\n",
        "\n",
        "model.add(Conv2D(32, 3,padding=\"same\",activation='relu'))\n",
        "model.add(MaxPool2D())\n",
        "\n",
        "model.add(Conv2D(64, 3,padding=\"same\",activation='relu'))\n",
        "model.add(MaxPool2D())\n",
        "\n",
        "model.add(Conv2D(128, 3,padding=\"same\",activation='relu'))\n",
        "model.add(MaxPool2D())\n",
        "model.add(Dropout(0.15))\n",
        "\n",
        "model.add(Conv2D(256, 3,padding=\"same\",activation='relu'))\n",
        "model.add(MaxPool2D())\n",
        "model.add(Dropout(0.20))\n",
        "\n",
        "model.add(Conv2D(512, 3,padding=\"same\",activation='relu'))\n",
        "model.add(MaxPool2D())\n",
        "model.add(Dropout(0.25))\n",
        "\n",
        "model.add(Flatten())\n",
        "model.add(Dense(1024,activation=\"relu\"))\n",
        "model.add(Dense(units=num_classes, activation= 'softmax'))\n"
      ]
    },
    {
      "cell_type": "code",
      "execution_count": null,
      "metadata": {
        "execution": {
          "iopub.execute_input": "2023-01-14T18:51:20.67706Z",
          "iopub.status.busy": "2023-01-14T18:51:20.676697Z",
          "iopub.status.idle": "2023-01-14T18:51:20.686752Z",
          "shell.execute_reply": "2023-01-14T18:51:20.685697Z",
          "shell.execute_reply.started": "2023-01-14T18:51:20.677024Z"
        },
        "id": "x3MuXbzInNu6",
        "trusted": true
      },
      "outputs": [],
      "source": [
        "opt = Adam(lr=0.001)\n",
        "model.compile(optimizer=opt,\n",
        "              loss= SparseCategoricalCrossentropy(from_logits=True),\n",
        "              metrics=['accuracy'])"
      ]
    },
    {
      "cell_type": "code",
      "execution_count": null,
      "metadata": {
        "execution": {
          "iopub.execute_input": "2023-01-14T18:51:20.690412Z",
          "iopub.status.busy": "2023-01-14T18:51:20.690117Z",
          "iopub.status.idle": "2023-01-14T18:53:10.832434Z",
          "shell.execute_reply": "2023-01-14T18:53:10.831454Z",
          "shell.execute_reply.started": "2023-01-14T18:51:20.690387Z"
        },
        "id": "UJDIkegonNu6",
        "trusted": true
      },
      "outputs": [],
      "source": [
        "epochs = 25\n",
        "history = model.fit(\n",
        "  train_ds,\n",
        "  validation_data=val_ds,\n",
        "  epochs=epochs\n",
        ")"
      ]
    },
    {
      "cell_type": "code",
      "execution_count": null,
      "metadata": {
        "execution": {
          "iopub.execute_input": "2023-01-14T18:53:10.834215Z",
          "iopub.status.busy": "2023-01-14T18:53:10.833801Z",
          "iopub.status.idle": "2023-01-14T18:53:11.159155Z",
          "shell.execute_reply": "2023-01-14T18:53:11.158088Z",
          "shell.execute_reply.started": "2023-01-14T18:53:10.834151Z"
        },
        "id": "hq7C1WVlnNu8",
        "trusted": true
      },
      "outputs": [],
      "source": [
        "acc = history.history['accuracy']\n",
        "val_acc = history.history['val_accuracy']\n",
        "\n",
        "loss = history.history['loss']\n",
        "val_loss = history.history['val_loss']\n",
        "\n",
        "epochs_range = range(epochs)\n",
        "\n",
        "plt.figure(figsize=(8, 8))\n",
        "plt.subplot(1, 2, 1)\n",
        "plt.plot(epochs_range, acc, label='Training Accuracy')\n",
        "plt.plot(epochs_range, val_acc, label='Validation Accuracy')\n",
        "plt.legend(loc='lower right')\n",
        "plt.title('Training and Validation Accuracy')\n",
        "\n",
        "plt.subplot(1, 2, 2)\n",
        "plt.plot(epochs_range, loss, label='Training Loss')\n",
        "plt.plot(epochs_range, val_loss, label='Validation Loss')\n",
        "plt.legend(loc='upper right')\n",
        "plt.title('Training and Validation Loss')\n",
        "plt.show()"
      ]
    },
    {
      "cell_type": "markdown",
      "metadata": {
        "id": "vwqJPTOlnNu8"
      },
      "source": [
        "## Findings\n",
        "* With data agumenatation and drop layer, the overfitting of the model is adressed to great extend. Earlier the train and validation accuracy difference was nearly 20%, with latest approach it's reduced to 2-3%.\n",
        "\n",
        "* The accuracy of the model is compromised heavily and decreased by fair bit from previous venilla model.\n",
        "\n",
        "* Considering above 2 points, there is still a scope of lot of improvement of the model.\n"
      ]
    },
    {
      "cell_type": "markdown",
      "metadata": {
        "id": "PQ4Xmw6qnNu8"
      },
      "source": [
        "# Analysing the class imbalance of the data"
      ]
    },
    {
      "cell_type": "code",
      "execution_count": null,
      "metadata": {
        "execution": {
          "iopub.execute_input": "2023-01-14T18:53:11.161118Z",
          "iopub.status.busy": "2023-01-14T18:53:11.160777Z",
          "iopub.status.idle": "2023-01-14T18:53:11.417901Z",
          "shell.execute_reply": "2023-01-14T18:53:11.417019Z",
          "shell.execute_reply.started": "2023-01-14T18:53:11.161083Z"
        },
        "id": "WUMJ9iRdnNu8",
        "trusted": true
      },
      "outputs": [],
      "source": [
        "num_classes = len(class_names)\n",
        "total = 0\n",
        "all_count = []\n",
        "class_name = []\n",
        "for i in range(num_classes):\n",
        "  count = len(list(data_dir_train.glob(class_names[i]+'/*.jpg')))\n",
        "  total += count\n",
        "print(\"total training image count = {} \\n\".format(total))\n",
        "print(\"-------------------------------------\")\n",
        "for i in range(num_classes):\n",
        "  count = len(list(data_dir_train.glob(class_names[i]+'/*.jpg')))\n",
        "  print(\"Class name = \",class_names[i])\n",
        "  print(\"count      = \",count)\n",
        "  print(\"proportion = \",count/total)\n",
        "  print(\"-------------------------------------\")\n",
        "  all_count.append(count)\n",
        "  class_name.append(class_names[i])\n",
        "\n",
        "temp_df = pd.DataFrame(list(zip(all_count, class_name)), columns = ['count', 'class_name'])\n",
        "sns.barplot(data=temp_df, y=\"count\", x=\"class_name\")\n",
        "plt.xticks(rotation=90)\n",
        "plt.show()"
      ]
    },
    {
      "cell_type": "markdown",
      "metadata": {
        "id": "0Zl1yuEqnNu8"
      },
      "source": [
        "## Findings\n",
        "Data is hevily imbalance and hence due to that results and predictions will be baised."
      ]
    },
    {
      "cell_type": "markdown",
      "metadata": {
        "id": "aijgqrCdnNu9"
      },
      "source": [
        "# Augmentor : Class balance\n",
        "\n",
        "Using Augmentor (https://augmentor.readthedocs.io/en/master/) to create the equal distribution of the class."
      ]
    },
    {
      "cell_type": "code",
      "execution_count": null,
      "metadata": {
        "execution": {
          "iopub.execute_input": "2023-01-14T18:53:11.419833Z",
          "iopub.status.busy": "2023-01-14T18:53:11.419499Z",
          "iopub.status.idle": "2023-01-14T18:53:21.09011Z",
          "shell.execute_reply": "2023-01-14T18:53:21.088825Z",
          "shell.execute_reply.started": "2023-01-14T18:53:11.419799Z"
        },
        "id": "sgg301efnNu9",
        "trusted": true
      },
      "outputs": [],
      "source": [
        "!pip install Augmentor"
      ]
    },
    {
      "cell_type": "code",
      "execution_count": null,
      "metadata": {
        "execution": {
          "iopub.execute_input": "2023-01-14T19:06:46.374212Z",
          "iopub.status.busy": "2023-01-14T19:06:46.373075Z",
          "iopub.status.idle": "2023-01-14T19:17:16.391767Z",
          "shell.execute_reply": "2023-01-14T19:17:16.391028Z",
          "shell.execute_reply.started": "2023-01-14T19:06:46.374145Z"
        },
        "id": "lTNunQJXnNu9",
        "trusted": true
      },
      "outputs": [],
      "source": [
        "path_to_training_dataset = '../input/skin-cancer9-classesisic/Skin cancer ISIC The International Skin Imaging Collaboration/Train/'\n",
        "import Augmentor\n",
        "for i in class_names:\n",
        "    p = Augmentor.Pipeline(path_to_training_dataset + i, output_directory='/kaggle/working/data/'+i+'/output/')\n",
        "    p.rotate(probability=0.7, max_left_rotation=10, max_right_rotation=10)\n",
        "    p.sample(1000)"
      ]
    },
    {
      "cell_type": "code",
      "execution_count": null,
      "metadata": {
        "execution": {
          "iopub.execute_input": "2023-01-14T19:17:16.393777Z",
          "iopub.status.busy": "2023-01-14T19:17:16.393328Z",
          "iopub.status.idle": "2023-01-14T19:17:16.754835Z",
          "shell.execute_reply": "2023-01-14T19:17:16.753231Z",
          "shell.execute_reply.started": "2023-01-14T19:17:16.39374Z"
        },
        "id": "ZfiH7apjnNvE",
        "trusted": true
      },
      "outputs": [],
      "source": [
        "output_dir = pathlib.Path('/kaggle/working/data/')\n",
        "image_count_train = len(list(output_dir.glob('*/output/*.jpg')))\n",
        "print(image_count_train)"
      ]
    },
    {
      "cell_type": "code",
      "execution_count": null,
      "metadata": {
        "execution": {
          "iopub.execute_input": "2023-01-14T19:17:16.756852Z",
          "iopub.status.busy": "2023-01-14T19:17:16.756224Z",
          "iopub.status.idle": "2023-01-14T19:17:17.076055Z",
          "shell.execute_reply": "2023-01-14T19:17:17.075115Z",
          "shell.execute_reply.started": "2023-01-14T19:17:16.756815Z"
        },
        "id": "TCy0_MbQnNvE",
        "trusted": true
      },
      "outputs": [],
      "source": [
        "num_classes = len(class_names)\n",
        "total = 0\n",
        "all_count = []\n",
        "class_name = []\n",
        "\n",
        "for i in range(num_classes):\n",
        "  count = len(list(output_dir.glob(class_names[i]+'/output/*.jpg')))\n",
        "  total += count\n",
        "print(\"total training image count = {} \\n\".format(total))\n",
        "print(\"-------------------------------------\")\n",
        "for i in range(num_classes):\n",
        "  count = len(list(output_dir.glob(class_names[i]+'/output/*.jpg')))\n",
        "  print(\"Class name = \",class_names[i])\n",
        "  print(\"count      = \",count)\n",
        "  print(\"proportion = \",count/total)\n",
        "  print(\"-------------------------------------\")\n",
        "  all_count.append(count)\n",
        "  class_name.append(class_names[i])\n",
        "\n",
        "\n",
        "temp_df = pd.DataFrame(list(zip(all_count, class_name)), columns = ['count', 'class_name'])\n",
        "sns.barplot(data=temp_df, y=\"count\", x=\"class_name\")\n",
        "plt.xticks(rotation=90)\n",
        "plt.show()"
      ]
    },
    {
      "cell_type": "markdown",
      "metadata": {
        "id": "JzA6HIS9nNvF"
      },
      "source": [
        "# Model 3 : Model with Class balance data."
      ]
    },
    {
      "cell_type": "code",
      "execution_count": null,
      "metadata": {
        "execution": {
          "iopub.execute_input": "2023-01-14T19:17:17.079196Z",
          "iopub.status.busy": "2023-01-14T19:17:17.07873Z",
          "iopub.status.idle": "2023-01-14T19:17:17.345297Z",
          "shell.execute_reply": "2023-01-14T19:17:17.344231Z",
          "shell.execute_reply.started": "2023-01-14T19:17:17.079142Z"
        },
        "id": "hcki0CcnnNvF",
        "trusted": true
      },
      "outputs": [],
      "source": [
        "train_ds = tf.keras.preprocessing.image_dataset_from_directory(\n",
        "  output_dir,\n",
        "  seed=123,\n",
        "  validation_split = 0.2,\n",
        "  subset = 'training',\n",
        "  image_size=(img_height, img_width),\n",
        "  batch_size=batch_size)\n"
      ]
    },
    {
      "cell_type": "code",
      "execution_count": null,
      "metadata": {
        "execution": {
          "iopub.execute_input": "2023-01-14T19:17:17.347852Z",
          "iopub.status.busy": "2023-01-14T19:17:17.347174Z",
          "iopub.status.idle": "2023-01-14T19:17:17.586661Z",
          "shell.execute_reply": "2023-01-14T19:17:17.585673Z",
          "shell.execute_reply.started": "2023-01-14T19:17:17.347814Z"
        },
        "id": "knJrPdRonNvF",
        "trusted": true
      },
      "outputs": [],
      "source": [
        "val_ds = tf.keras.preprocessing.image_dataset_from_directory(\n",
        "  output_dir,\n",
        "  seed=123,\n",
        "  validation_split = 0.2,\n",
        "  subset = 'validation',\n",
        "  image_size=(img_height, img_width),\n",
        "  batch_size=batch_size)\n"
      ]
    },
    {
      "cell_type": "code",
      "execution_count": null,
      "metadata": {
        "execution": {
          "iopub.execute_input": "2023-01-14T19:17:17.588729Z",
          "iopub.status.busy": "2023-01-14T19:17:17.587903Z",
          "iopub.status.idle": "2023-01-14T19:17:17.594161Z",
          "shell.execute_reply": "2023-01-14T19:17:17.593239Z",
          "shell.execute_reply.started": "2023-01-14T19:17:17.588691Z"
        },
        "id": "jk--qiBInNvF",
        "trusted": true
      },
      "outputs": [],
      "source": [
        "print(train_ds.class_names)"
      ]
    },
    {
      "cell_type": "code",
      "execution_count": null,
      "metadata": {
        "execution": {
          "iopub.execute_input": "2023-01-14T19:17:17.59637Z",
          "iopub.status.busy": "2023-01-14T19:17:17.595448Z",
          "iopub.status.idle": "2023-01-14T19:17:17.684032Z",
          "shell.execute_reply": "2023-01-14T19:17:17.683207Z",
          "shell.execute_reply.started": "2023-01-14T19:17:17.596337Z"
        },
        "id": "UwluTXjZnNvG",
        "trusted": true
      },
      "outputs": [],
      "source": [
        "num_classes = 9\n",
        "model = Sequential([layers.experimental.preprocessing.Rescaling(1.0/255,input_shape=(img_height,img_width,3))])\n",
        "\n",
        "model.add(Conv2D(32, 3,padding=\"same\",activation='relu'))\n",
        "model.add(MaxPool2D())\n",
        "\n",
        "model.add(Conv2D(64, 3,padding=\"same\",activation='relu'))\n",
        "model.add(MaxPool2D())\n",
        "\n",
        "model.add(Conv2D(128, 3,padding=\"same\",activation='relu'))\n",
        "model.add(MaxPool2D())\n",
        "model.add(Dropout(0.15))\n",
        "\n",
        "model.add(Conv2D(256, 3,padding=\"same\",activation='relu'))\n",
        "model.add(MaxPool2D())\n",
        "model.add(Dropout(0.20))\n",
        "\n",
        "model.add(Conv2D(512, 3,padding=\"same\",activation='relu'))\n",
        "model.add(MaxPool2D())\n",
        "model.add(Dropout(0.25))\n",
        "\n",
        "model.add(Flatten())\n",
        "model.add(Dense(1024,activation=\"relu\"))\n",
        "model.add(Dense(units=num_classes, activation= 'softmax'))\n"
      ]
    },
    {
      "cell_type": "code",
      "execution_count": null,
      "metadata": {
        "execution": {
          "iopub.execute_input": "2023-01-14T19:17:17.685864Z",
          "iopub.status.busy": "2023-01-14T19:17:17.685361Z",
          "iopub.status.idle": "2023-01-14T19:17:17.696057Z",
          "shell.execute_reply": "2023-01-14T19:17:17.695065Z",
          "shell.execute_reply.started": "2023-01-14T19:17:17.685827Z"
        },
        "id": "GRcWO9qnnNvG",
        "trusted": true
      },
      "outputs": [],
      "source": [
        "opt = Adam(lr=0.001)\n",
        "model.compile(optimizer= opt,\n",
        "              loss = SparseCategoricalCrossentropy(from_logits=True),\n",
        "              metrics=['accuracy'])\n"
      ]
    },
    {
      "cell_type": "code",
      "execution_count": null,
      "metadata": {
        "execution": {
          "iopub.execute_input": "2023-01-14T19:17:17.697833Z",
          "iopub.status.busy": "2023-01-14T19:17:17.697321Z",
          "iopub.status.idle": "2023-01-14T19:30:23.728575Z",
          "shell.execute_reply": "2023-01-14T19:30:23.727475Z",
          "shell.execute_reply.started": "2023-01-14T19:17:17.697798Z"
        },
        "id": "4dMCSFTMnNvH",
        "trusted": true
      },
      "outputs": [],
      "source": [
        "epochs = 25\n",
        "history = model.fit(\n",
        "  train_ds,\n",
        "  validation_data=val_ds,\n",
        "  epochs=epochs\n",
        ")"
      ]
    },
    {
      "cell_type": "code",
      "execution_count": null,
      "metadata": {
        "execution": {
          "iopub.execute_input": "2023-01-14T19:30:23.732643Z",
          "iopub.status.busy": "2023-01-14T19:30:23.731878Z",
          "iopub.status.idle": "2023-01-14T19:30:24.077978Z",
          "shell.execute_reply": "2023-01-14T19:30:24.077076Z",
          "shell.execute_reply.started": "2023-01-14T19:30:23.7326Z"
        },
        "id": "PAhHGzeanNvH",
        "trusted": true
      },
      "outputs": [],
      "source": [
        "acc = history.history['accuracy']\n",
        "val_acc = history.history['val_accuracy']\n",
        "\n",
        "loss = history.history['loss']\n",
        "val_loss = history.history['val_loss']\n",
        "\n",
        "epochs_range = range(epochs)\n",
        "\n",
        "plt.figure(figsize=(8, 8))\n",
        "plt.subplot(1, 2, 1)\n",
        "plt.plot(epochs_range, acc, label='Training Accuracy')\n",
        "plt.plot(epochs_range, val_acc, label='Validation Accuracy')\n",
        "plt.legend(loc='lower right')\n",
        "plt.title('Training and Validation Accuracy')\n",
        "\n",
        "plt.subplot(1, 2, 2)\n",
        "plt.plot(epochs_range, loss, label='Training Loss')\n",
        "plt.plot(epochs_range, val_loss, label='Validation Loss')\n",
        "plt.legend(loc='upper right')\n",
        "plt.title('Training and Validation Loss')\n",
        "plt.show()"
      ]
    },
    {
      "cell_type": "markdown",
      "metadata": {
        "id": "Ei6h4wmVnNvI"
      },
      "source": [
        "## Findings :\n",
        "* After rebalance/resampling of the data (that gave equal proportion of data )and raised the accuray of the mdoel to 90%. This addressed the low accurty problem.\n",
        "\n",
        "*  overfitting probelm is adressed and now difference between train and val set is nearly 4-5% diff.\n",
        "\n",
        "* with these results it's conclusive that current module with rebalanced data is the best module.\n"
      ]
    },
    {
      "cell_type": "markdown",
      "metadata": {
        "id": "MW1yOIwznNvI"
      },
      "source": [
        "# Evaluation."
      ]
    },
    {
      "cell_type": "code",
      "execution_count": null,
      "metadata": {
        "execution": {
          "iopub.execute_input": "2023-01-14T19:30:58.042059Z",
          "iopub.status.busy": "2023-01-14T19:30:58.041679Z",
          "iopub.status.idle": "2023-01-14T19:30:58.177616Z",
          "shell.execute_reply": "2023-01-14T19:30:58.176484Z",
          "shell.execute_reply.started": "2023-01-14T19:30:58.042026Z"
        },
        "id": "zlTvb80fnNvI",
        "trusted": true
      },
      "outputs": [],
      "source": [
        "#Create a file to save models\n",
        "top_model_weights_path = '/kaggle/working/cnn_fc_model.h5'\n",
        "model.save_weights(top_model_weights_path)\n"
      ]
    },
    {
      "cell_type": "code",
      "execution_count": null,
      "metadata": {
        "execution": {
          "iopub.execute_input": "2023-01-14T19:30:58.650214Z",
          "iopub.status.busy": "2023-01-14T19:30:58.64931Z",
          "iopub.status.idle": "2023-01-14T19:31:03.024939Z",
          "shell.execute_reply": "2023-01-14T19:31:03.023952Z",
          "shell.execute_reply.started": "2023-01-14T19:30:58.650149Z"
        },
        "id": "yfSPdoz6nNvI",
        "trusted": true
      },
      "outputs": [],
      "source": [
        "(eval_loss, eval_accuracy) = model.evaluate(test_ds, batch_size=batch_size, \\\n",
        "                                            verbose=1)"
      ]
    },
    {
      "cell_type": "code",
      "execution_count": null,
      "metadata": {
        "execution": {
          "iopub.execute_input": "2023-01-14T19:31:03.027393Z",
          "iopub.status.busy": "2023-01-14T19:31:03.026998Z",
          "iopub.status.idle": "2023-01-14T19:31:03.033355Z",
          "shell.execute_reply": "2023-01-14T19:31:03.032095Z",
          "shell.execute_reply.started": "2023-01-14T19:31:03.027354Z"
        },
        "id": "LmbVt6wnnNvI",
        "trusted": true
      },
      "outputs": [],
      "source": [
        "print(\"[INFO] accuracy: {:.2f}%\".format(eval_accuracy * 100))\n",
        "print(\"[INFO] Loss: {}\".format(eval_loss))"
      ]
    },
    {
      "cell_type": "code",
      "execution_count": null,
      "metadata": {
        "id": "lBOLeKrcnNvI"
      },
      "outputs": [],
      "source": []
    }
  ],
  "metadata": {
    "colab": {
      "provenance": []
    },
    "kernelspec": {
      "display_name": "Python 3",
      "language": "python",
      "name": "python3"
    },
    "language_info": {
      "codemirror_mode": {
        "name": "ipython",
        "version": 3
      },
      "file_extension": ".py",
      "mimetype": "text/x-python",
      "name": "python",
      "nbconvert_exporter": "python",
      "pygments_lexer": "ipython3",
      "version": "3.6.4"
    }
  },
  "nbformat": 4,
  "nbformat_minor": 0
}
